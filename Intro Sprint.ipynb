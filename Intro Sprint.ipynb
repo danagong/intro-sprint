{
 "cells": [
  {
   "cell_type": "markdown",
   "id": "0ff112d8",
   "metadata": {},
   "source": [
    "# 1) Data Collection and Cleaning with Jupyter \n",
    "\n",
    "## Introduction to Jupyter Notebook\n",
    "\n",
    "Jupyter Notebook is a really easy and user friendly way to experiment with Python code, combining code with notes and documentation. You can do all of this without having use the command line, and the resulting file can be easily published and shared with other people.\n",
    "\n",
    "An Jupyter Notebook consists of a number of \"cells,\" stacked on the page from top to bottom. Cells can have text or code in them. You can change a cell's type using the \"Cell\" menu at the top of the page; go to Cell > Cell Type and select either Code for Python code or Markdown for text. (You can also change this for the current cell using the drop-down menu in the toolbar.)\n",
    "\n",
    "#### Text Cells\n",
    "Make a new cell, change its type to Markdown, type some stuff and click run. Jupyter Notebook will \"render\" the text and display it on the page in rendered format. You can hit Enter or click in the cell to edit its contents again. Text in Markdown cells is rendered according to a set of conventions called Markdown, a language for marking up text using formatting instructions.\n",
    "\n",
    "#### Code Cells\n"
   ]
  },
  {
   "cell_type": "code",
   "execution_count": 22,
   "id": "1a7089b0",
   "metadata": {},
   "outputs": [
    {
     "name": "stdout",
     "output_type": "stream",
     "text": [
      "This is a code cell.\n",
      "\n",
      "Any Python code you type in this cell will be run when you press the 'Run' button,\n"
     ]
    }
   ],
   "source": [
    "print(\"This is a code cell.\")\n",
    "print(\"\")\n",
    "print(\"Any Python code you type in this cell will be run when you press the 'Run' button,\")"
   ]
  },
  {
   "cell_type": "markdown",
   "id": "a2c44758",
   "metadata": {},
   "source": [
    "You can define variables or import modules in one code cell and it will be available for you to in all subsequent code cells."
   ]
  },
  {
   "cell_type": "code",
   "execution_count": 1,
   "id": "5823fcbb",
   "metadata": {},
   "outputs": [],
   "source": [
    "import random\n",
    "animals = [\"dog\", \"cat\", \"elephant\", \"zebra\"]"
   ]
  },
  {
   "cell_type": "markdown",
   "id": "66562163",
   "metadata": {},
   "source": [
    "Now, you can use the list of animals and the random module in the cell below."
   ]
  },
  {
   "cell_type": "code",
   "execution_count": 2,
   "id": "03a42f04",
   "metadata": {},
   "outputs": [
    {
     "name": "stdout",
     "output_type": "stream",
     "text": [
      "elephant\n"
     ]
    }
   ],
   "source": [
    "print(random.choice(animals))"
   ]
  },
  {
   "cell_type": "markdown",
   "id": "01ae0b0e",
   "metadata": {},
   "source": [
    "## Python Modules\n",
    "\n",
    "Modules refer to a file containing Python statements and definitions. Above, we imported the random module which has many functions for randomizing distributions of numbers. We used the choice function which returns a random element from a sequence.\n",
    "\n",
    "Throughout, we will be using common modules."
   ]
  },
  {
   "cell_type": "code",
   "execution_count": 6,
   "id": "9e94fda6",
   "metadata": {},
   "outputs": [],
   "source": [
    "import numpy as np\n",
    "import matplotlib.pyplot as plt\n",
    "import pandas as pd"
   ]
  },
  {
   "cell_type": "markdown",
   "id": "044ce96b",
   "metadata": {},
   "source": [
    "\n",
    "## Data Collection\n",
    "\n",
    "For the purposes of our introductory sprint, we will be collecting data either through importing a csv file or web scraping (specifically with social media), but we will focus on web scraping in a later notebook.\n",
    "\n",
    "In this, we will be using a dataset on school district demographics in New York City. This data was downloaded from [NYC Open Data](https://data.cityofnewyork.us/Education/School-District-Breakdowns/g3vh-kbnw)."
   ]
  },
  {
   "cell_type": "code",
   "execution_count": 8,
   "id": "869891df",
   "metadata": {},
   "outputs": [],
   "source": [
    "school = pd.read_csv('school_district_breakdowns.csv')"
   ]
  },
  {
   "cell_type": "markdown",
   "id": "dcdbd17b",
   "metadata": {},
   "source": [
    "We can use the head function to show the first five rows of the dataset (or tail to show the last five rows). We can also use the shape function to see the dimensions of our dataset."
   ]
  },
  {
   "cell_type": "code",
   "execution_count": 14,
   "id": "f4c7195e",
   "metadata": {},
   "outputs": [
    {
     "data": {
      "text/html": [
       "<div>\n",
       "<style scoped>\n",
       "    .dataframe tbody tr th:only-of-type {\n",
       "        vertical-align: middle;\n",
       "    }\n",
       "\n",
       "    .dataframe tbody tr th {\n",
       "        vertical-align: top;\n",
       "    }\n",
       "\n",
       "    .dataframe thead th {\n",
       "        text-align: right;\n",
       "    }\n",
       "</style>\n",
       "<table border=\"1\" class=\"dataframe\">\n",
       "  <thead>\n",
       "    <tr style=\"text-align: right;\">\n",
       "      <th></th>\n",
       "      <th>JURISDICTION NAME</th>\n",
       "      <th>COUNT PARTICIPANTS</th>\n",
       "      <th>COUNT FEMALE</th>\n",
       "      <th>PERCENT FEMALE</th>\n",
       "      <th>COUNT MALE</th>\n",
       "      <th>PERCENT MALE</th>\n",
       "      <th>COUNT GENDER UNKNOWN</th>\n",
       "      <th>PERCENT GENDER UNKNOWN</th>\n",
       "      <th>COUNT GENDER TOTAL</th>\n",
       "      <th>PERCENT GENDER TOTAL</th>\n",
       "      <th>...</th>\n",
       "      <th>COUNT CITIZEN STATUS TOTAL</th>\n",
       "      <th>PERCENT CITIZEN STATUS TOTAL</th>\n",
       "      <th>COUNT RECEIVES PUBLIC ASSISTANCE</th>\n",
       "      <th>PERCENT RECEIVES PUBLIC ASSISTANCE</th>\n",
       "      <th>COUNT NRECEIVES PUBLIC ASSISTANCE</th>\n",
       "      <th>PERCENT NRECEIVES PUBLIC ASSISTANCE</th>\n",
       "      <th>COUNT PUBLIC ASSISTANCE UNKNOWN</th>\n",
       "      <th>PERCENT PUBLIC ASSISTANCE UNKNOWN</th>\n",
       "      <th>COUNT PUBLIC ASSISTANCE TOTAL</th>\n",
       "      <th>PERCENT PUBLIC ASSISTANCE TOTAL</th>\n",
       "    </tr>\n",
       "  </thead>\n",
       "  <tbody>\n",
       "    <tr>\n",
       "      <th>0</th>\n",
       "      <td>CSD 01 Manhattan</td>\n",
       "      <td>11</td>\n",
       "      <td>4</td>\n",
       "      <td>0.36</td>\n",
       "      <td>7</td>\n",
       "      <td>0.64</td>\n",
       "      <td>0</td>\n",
       "      <td>0</td>\n",
       "      <td>11</td>\n",
       "      <td>100</td>\n",
       "      <td>...</td>\n",
       "      <td>11</td>\n",
       "      <td>100</td>\n",
       "      <td>0</td>\n",
       "      <td>0.00</td>\n",
       "      <td>11</td>\n",
       "      <td>1.00</td>\n",
       "      <td>0</td>\n",
       "      <td>0</td>\n",
       "      <td>11</td>\n",
       "      <td>100</td>\n",
       "    </tr>\n",
       "    <tr>\n",
       "      <th>1</th>\n",
       "      <td>CSD 02 Manhattan</td>\n",
       "      <td>124</td>\n",
       "      <td>70</td>\n",
       "      <td>0.56</td>\n",
       "      <td>54</td>\n",
       "      <td>0.44</td>\n",
       "      <td>0</td>\n",
       "      <td>0</td>\n",
       "      <td>124</td>\n",
       "      <td>100</td>\n",
       "      <td>...</td>\n",
       "      <td>124</td>\n",
       "      <td>100</td>\n",
       "      <td>38</td>\n",
       "      <td>0.31</td>\n",
       "      <td>86</td>\n",
       "      <td>0.69</td>\n",
       "      <td>0</td>\n",
       "      <td>0</td>\n",
       "      <td>124</td>\n",
       "      <td>100</td>\n",
       "    </tr>\n",
       "    <tr>\n",
       "      <th>2</th>\n",
       "      <td>CSD 03 Manhattan</td>\n",
       "      <td>38</td>\n",
       "      <td>26</td>\n",
       "      <td>0.68</td>\n",
       "      <td>12</td>\n",
       "      <td>0.32</td>\n",
       "      <td>0</td>\n",
       "      <td>0</td>\n",
       "      <td>38</td>\n",
       "      <td>100</td>\n",
       "      <td>...</td>\n",
       "      <td>38</td>\n",
       "      <td>100</td>\n",
       "      <td>14</td>\n",
       "      <td>0.37</td>\n",
       "      <td>24</td>\n",
       "      <td>0.63</td>\n",
       "      <td>0</td>\n",
       "      <td>0</td>\n",
       "      <td>38</td>\n",
       "      <td>100</td>\n",
       "    </tr>\n",
       "    <tr>\n",
       "      <th>3</th>\n",
       "      <td>CSD 04 Manhattan</td>\n",
       "      <td>20</td>\n",
       "      <td>13</td>\n",
       "      <td>0.65</td>\n",
       "      <td>7</td>\n",
       "      <td>0.35</td>\n",
       "      <td>0</td>\n",
       "      <td>0</td>\n",
       "      <td>20</td>\n",
       "      <td>100</td>\n",
       "      <td>...</td>\n",
       "      <td>20</td>\n",
       "      <td>100</td>\n",
       "      <td>8</td>\n",
       "      <td>0.40</td>\n",
       "      <td>12</td>\n",
       "      <td>0.60</td>\n",
       "      <td>0</td>\n",
       "      <td>0</td>\n",
       "      <td>20</td>\n",
       "      <td>100</td>\n",
       "    </tr>\n",
       "    <tr>\n",
       "      <th>4</th>\n",
       "      <td>CSD 05 Manhattan</td>\n",
       "      <td>7</td>\n",
       "      <td>4</td>\n",
       "      <td>0.57</td>\n",
       "      <td>3</td>\n",
       "      <td>0.43</td>\n",
       "      <td>0</td>\n",
       "      <td>0</td>\n",
       "      <td>7</td>\n",
       "      <td>100</td>\n",
       "      <td>...</td>\n",
       "      <td>7</td>\n",
       "      <td>100</td>\n",
       "      <td>1</td>\n",
       "      <td>0.14</td>\n",
       "      <td>6</td>\n",
       "      <td>0.86</td>\n",
       "      <td>0</td>\n",
       "      <td>0</td>\n",
       "      <td>7</td>\n",
       "      <td>100</td>\n",
       "    </tr>\n",
       "  </tbody>\n",
       "</table>\n",
       "<p>5 rows × 45 columns</p>\n",
       "</div>"
      ],
      "text/plain": [
       "  JURISDICTION NAME  COUNT PARTICIPANTS  COUNT FEMALE  PERCENT FEMALE  \\\n",
       "0  CSD 01 Manhattan                  11             4            0.36   \n",
       "1  CSD 02 Manhattan                 124            70            0.56   \n",
       "2  CSD 03 Manhattan                  38            26            0.68   \n",
       "3  CSD 04 Manhattan                  20            13            0.65   \n",
       "4  CSD 05 Manhattan                   7             4            0.57   \n",
       "\n",
       "   COUNT MALE  PERCENT MALE  COUNT GENDER UNKNOWN  PERCENT GENDER UNKNOWN  \\\n",
       "0           7          0.64                     0                       0   \n",
       "1          54          0.44                     0                       0   \n",
       "2          12          0.32                     0                       0   \n",
       "3           7          0.35                     0                       0   \n",
       "4           3          0.43                     0                       0   \n",
       "\n",
       "   COUNT GENDER TOTAL  PERCENT GENDER TOTAL  ...  COUNT CITIZEN STATUS TOTAL  \\\n",
       "0                  11                   100  ...                          11   \n",
       "1                 124                   100  ...                         124   \n",
       "2                  38                   100  ...                          38   \n",
       "3                  20                   100  ...                          20   \n",
       "4                   7                   100  ...                           7   \n",
       "\n",
       "   PERCENT CITIZEN STATUS TOTAL  COUNT RECEIVES PUBLIC ASSISTANCE  \\\n",
       "0                           100                                 0   \n",
       "1                           100                                38   \n",
       "2                           100                                14   \n",
       "3                           100                                 8   \n",
       "4                           100                                 1   \n",
       "\n",
       "   PERCENT RECEIVES PUBLIC ASSISTANCE  COUNT NRECEIVES PUBLIC ASSISTANCE  \\\n",
       "0                                0.00                                 11   \n",
       "1                                0.31                                 86   \n",
       "2                                0.37                                 24   \n",
       "3                                0.40                                 12   \n",
       "4                                0.14                                  6   \n",
       "\n",
       "   PERCENT NRECEIVES PUBLIC ASSISTANCE  COUNT PUBLIC ASSISTANCE UNKNOWN  \\\n",
       "0                                 1.00                                0   \n",
       "1                                 0.69                                0   \n",
       "2                                 0.63                                0   \n",
       "3                                 0.60                                0   \n",
       "4                                 0.86                                0   \n",
       "\n",
       "   PERCENT PUBLIC ASSISTANCE UNKNOWN  COUNT PUBLIC ASSISTANCE TOTAL  \\\n",
       "0                                  0                             11   \n",
       "1                                  0                            124   \n",
       "2                                  0                             38   \n",
       "3                                  0                             20   \n",
       "4                                  0                              7   \n",
       "\n",
       "   PERCENT PUBLIC ASSISTANCE TOTAL  \n",
       "0                              100  \n",
       "1                              100  \n",
       "2                              100  \n",
       "3                              100  \n",
       "4                              100  \n",
       "\n",
       "[5 rows x 45 columns]"
      ]
     },
     "metadata": {},
     "output_type": "display_data"
    },
    {
     "name": "stdout",
     "output_type": "stream",
     "text": [
      "(32, 45)\n"
     ]
    }
   ],
   "source": [
    "display(school.head())\n",
    "print(school.shape)"
   ]
  },
  {
   "cell_type": "markdown",
   "id": "2022e6eb",
   "metadata": {},
   "source": [
    "After looking at our data, we can see we have a ton of columns (45!). We want to remove the ones that are not necessary to our overall goal or analysis.\n",
    "\n",
    "Let's print the names of all the columns to see what we want to keep and remove."
   ]
  },
  {
   "cell_type": "code",
   "execution_count": 15,
   "id": "3c696456",
   "metadata": {},
   "outputs": [
    {
     "name": "stdout",
     "output_type": "stream",
     "text": [
      "Index(['JURISDICTION NAME', 'COUNT PARTICIPANTS', 'COUNT FEMALE',\n",
      "       'PERCENT FEMALE', 'COUNT MALE', 'PERCENT MALE', 'COUNT GENDER UNKNOWN',\n",
      "       'PERCENT GENDER UNKNOWN', 'COUNT GENDER TOTAL', 'PERCENT GENDER TOTAL',\n",
      "       'COUNT PACIFIC ISLANDER', 'COUNT HISPANIC LATINO',\n",
      "       'PERCENT HISPANIC LATINO', 'COUNT AMERICAN INDIAN',\n",
      "       'PERCENT AMERICAN INDIAN', 'COUNT ASIAN NON HISPANIC',\n",
      "       'PERCENT ASIAN NON HISPANIC', 'COUNT WHITE NON HISPANIC',\n",
      "       'PERCENT WHITE NON HISPANIC', 'COUNT BLACK NON HISPANIC',\n",
      "       'PERCENT BLACK NON HISPANIC', 'COUNT OTHER ETHNICITY',\n",
      "       'PERCENT OTHER ETHNICITY', 'COUNT ETHNICITY UNKNOWN',\n",
      "       'PERCENT ETHNICITY UNKNOWN', 'COUNT ETHNICITY TOTAL',\n",
      "       'PERCENT ETHNICITY TOTAL', 'COUNT PERMANENT RESIDENT ALIEN',\n",
      "       'PERCENT PERMANENT RESIDENT ALIEN', 'COUNT US CITIZEN',\n",
      "       'PERCENT US CITIZEN', 'COUNT OTHER CITIZEN STATUS',\n",
      "       'PERCENT OTHER CITIZEN STATUS', 'COUNT CITIZEN STATUS UNKNOWN',\n",
      "       'PERCENT CITIZEN STATUS UNKNOWN', 'COUNT CITIZEN STATUS TOTAL',\n",
      "       'PERCENT CITIZEN STATUS TOTAL', 'COUNT RECEIVES PUBLIC ASSISTANCE',\n",
      "       'PERCENT RECEIVES PUBLIC ASSISTANCE',\n",
      "       'COUNT NRECEIVES PUBLIC ASSISTANCE',\n",
      "       'PERCENT NRECEIVES PUBLIC ASSISTANCE',\n",
      "       'COUNT PUBLIC ASSISTANCE UNKNOWN', 'PERCENT PUBLIC ASSISTANCE UNKNOWN',\n",
      "       'COUNT PUBLIC ASSISTANCE TOTAL', 'PERCENT PUBLIC ASSISTANCE TOTAL'],\n",
      "      dtype='object')\n"
     ]
    }
   ],
   "source": [
    "print(school.columns)"
   ]
  },
  {
   "cell_type": "code",
   "execution_count": 21,
   "id": "f95b80fb",
   "metadata": {},
   "outputs": [
    {
     "name": "stdout",
     "output_type": "stream",
     "text": [
      "Index(['JURISDICTION NAME', 'COUNT PARTICIPANTS', 'COUNT FEMALE', 'COUNT MALE',\n",
      "       'COUNT GENDER TOTAL', 'COUNT PACIFIC ISLANDER', 'COUNT HISPANIC LATINO',\n",
      "       'COUNT AMERICAN INDIAN', 'COUNT ASIAN NON HISPANIC',\n",
      "       'COUNT WHITE NON HISPANIC', 'COUNT BLACK NON HISPANIC',\n",
      "       'COUNT OTHER ETHNICITY', 'COUNT ETHNICITY TOTAL',\n",
      "       'COUNT PERMANENT RESIDENT ALIEN', 'COUNT US CITIZEN',\n",
      "       'COUNT OTHER CITIZEN STATUS', 'COUNT CITIZEN STATUS TOTAL',\n",
      "       'COUNT RECEIVES PUBLIC ASSISTANCE', 'COUNT NRECEIVES PUBLIC ASSISTANCE',\n",
      "       'COUNT PUBLIC ASSISTANCE TOTAL'],\n",
      "      dtype='object')\n"
     ]
    }
   ],
   "source": [
    "school = school[school.columns.drop(list(school.filter(regex='PERCENT')))]\n",
    "school = school[school.columns.drop(list(school.filter(regex='UNKNOWN')))]\n",
    "\n",
    "print(school.columns)"
   ]
  },
  {
   "cell_type": "markdown",
   "id": "f45f4512",
   "metadata": {},
   "source": [
    "We can rename column names to make them easier to work with later on. In this we created a for loop to replace all spaces with an underscore and make our letters lowercase"
   ]
  },
  {
   "cell_type": "code",
   "execution_count": 27,
   "id": "970efaca",
   "metadata": {},
   "outputs": [
    {
     "name": "stdout",
     "output_type": "stream",
     "text": [
      "Index(['jurisdiction_name', 'count_participants', 'count_female', 'count_male',\n",
      "       'count_gender_total', 'count_pacific_islander', 'count_hispanic_latino',\n",
      "       'count_american_indian', 'count_asian_non_hispanic',\n",
      "       'count_white_non_hispanic', 'count_black_non_hispanic',\n",
      "       'count_other_ethnicity', 'count_ethnicity_total',\n",
      "       'count_permanent_resident_alien', 'count_us_citizen',\n",
      "       'count_other_citizen_status', 'count_citizen_status_total',\n",
      "       'count_receives_public_assistance', 'count_nreceives_public_assistance',\n",
      "       'count_public_assistance_total'],\n",
      "      dtype='object')\n"
     ]
    }
   ],
   "source": [
    "new_colnames = []\n",
    "for col in school.columns:\n",
    "    new_colnames.append(col.lower())\n",
    "    for col in range(len(new_colnames)):\n",
    "        new_colnames[col] = new_colnames[col].replace(\" \", \"_\")\n",
    "        new_colnames[col] = new_colnames[col].lower()\n",
    "\n",
    "school.columns = new_colnames\n",
    "\n",
    "print(school.columns)"
   ]
  },
  {
   "cell_type": "code",
   "execution_count": 26,
   "id": "f81a8fd2",
   "metadata": {},
   "outputs": [
    {
     "data": {
      "text/plain": [
       "Index(['jurisdiction_name', 'count_participants', 'count_female', 'count_male',\n",
       "       'count_gender_total', 'count_pacific_islander', 'count_hispanic_latino',\n",
       "       'count_american_indian', 'count_asian_non_hispanic',\n",
       "       'count_white_non_hispanic', 'count_black_non_hispanic',\n",
       "       'count_other_ethnicity', 'count_ethnicity_total',\n",
       "       'count_permanent_resident_alien', 'count_us_citizen',\n",
       "       'count_other_citizen_status', 'count_citizen_status_total',\n",
       "       'count_receives_public_assistance', 'count_nreceives_public_assistance',\n",
       "       'count_public_assistance_total'],\n",
       "      dtype='object')"
      ]
     },
     "execution_count": 26,
     "metadata": {},
     "output_type": "execute_result"
    }
   ],
   "source": []
  },
  {
   "cell_type": "markdown",
   "id": "d1cd0ac6",
   "metadata": {},
   "source": [
    "# 2) Web Scraping with Twitter and Reddit\n",
    "\n",
    "Modified from the Fall 2020 workshop by [Melanie Walsh](https://melaniewalsh.org/).\n",
    "\n",
    "## Why Collect Social Media Data?\n",
    "* Maybe you're interested in internet language trends, like this [Pudding article about the rise of \"lol\" on Reddit](https://pudding.cool/2019/10/laugh/#lol).\n",
    "* Maybe you're interested in Twitter bots, trolls, or online protest movements, like this [NYT article about Twitter bots and Hong Kong protestors or this 538 article about Russian trolls](https://www.nytimes.com/interactive/2019/09/18/world/asia/hk-twitter.html).\n",
    "* Maybe you're interested in how online communities develop and relate to each other, like this [mapping of subreddits](https://lmcinnes.github.io/subreddit_mapping/subreddit_map.html) or this [538 piece about how people respond to politicians on Twitter](https://fivethirtyeight.com/features/the-worst-tweeter-in-politics-isnt-trump/).\n",
    "\n",
    "## How Can We Collect Social Media Data Using Computational Tools?\n",
    "\n",
    "### APIs vs Web Scraping\n",
    "\n",
    "An **Application Programming Interface** (API) allows you to programmatically extract and interact with data under the hood of websites, social networks, and other projects that make their data publicly available. Twitter and Reddit both offer APIs that allow users to access their data. However, because these APIs are controlled by the companies themselves, they also come with limitations. For example, Twitter does not allow users to collect tweets more than one week in the past without a paid subscription.\n",
    "\n",
    "Another way that you might collect data from the internet or social media is via web scraping. When you get data from an API, you're getting data from an internal source (from \"inside\" Twitter). When you \"scrape\" the surface of a web page, you're getting data from the user-facing surface of a web page, just like the web page you would pull up if you opened Chrome and typed \"twitter.com\". This makes web scraping sometimes clunky and unreliable when compared to an API, although it's often the only option if there's not an available API or the API does not offer what you're looking for.\n",
    "\n",
    "### Reddit\n",
    "\n",
    "Though Reddit has its own API, there is a more popular API for working with Reddit called **Pushshift**. You can read more about Pushshift in this arXiv article: https://arxiv.org/abs/2001.08435 (PDF)\n",
    "\n",
    "> Why do people use Pushshift’s API instead of the official Reddit API?\n",
    ">\n",
    ">In short, Pushshift makes it much easier for researchers to query and retrieve historical Reddit data, provides extended functionality by providing fulltext search against comments and submissions, and has larger single query limits.\n",
    ">\n",
    ">Jason Baumgartner, et al., \"The Pushshift Reddit Dataset\"\n",
    "\n",
    "#### Install PSAW\n",
    "\n",
    "To work with the Pushshift API, we're going to install and use a Python wrapper called [PSAW](https://github.com/dmarx/psaw)."
   ]
  },
  {
   "cell_type": "code",
   "execution_count": 29,
   "id": "ede20502",
   "metadata": {},
   "outputs": [
    {
     "name": "stdout",
     "output_type": "stream",
     "text": [
      "Collecting psaw\n",
      "  Downloading psaw-0.1.0-py3-none-any.whl (15 kB)\n",
      "Collecting requests\n",
      "  Downloading requests-2.26.0-py2.py3-none-any.whl (62 kB)\n",
      "\u001b[K     |████████████████████████████████| 62 kB 5.2 MB/s eta 0:00:011\n",
      "\u001b[?25hCollecting Click\n",
      "  Downloading click-8.0.1-py3-none-any.whl (97 kB)\n",
      "\u001b[K     |████████████████████████████████| 97 kB 14.0 MB/s eta 0:00:01\n",
      "\u001b[?25hCollecting charset-normalizer~=2.0.0\n",
      "  Downloading charset_normalizer-2.0.4-py3-none-any.whl (36 kB)\n",
      "Collecting urllib3<1.27,>=1.21.1\n",
      "  Downloading urllib3-1.26.6-py2.py3-none-any.whl (138 kB)\n",
      "\u001b[K     |████████████████████████████████| 138 kB 14.8 MB/s eta 0:00:01\n",
      "\u001b[?25hCollecting idna<4,>=2.5\n",
      "  Downloading idna-3.2-py3-none-any.whl (59 kB)\n",
      "\u001b[K     |████████████████████████████████| 59 kB 16.6 MB/s eta 0:00:01\n",
      "\u001b[?25hCollecting certifi>=2017.4.17\n",
      "  Using cached certifi-2021.5.30-py2.py3-none-any.whl (145 kB)\n",
      "Installing collected packages: urllib3, idna, charset-normalizer, certifi, requests, Click, psaw\n",
      "Successfully installed Click-8.0.1 certifi-2021.5.30 charset-normalizer-2.0.4 idna-3.2 psaw-0.1.0 requests-2.26.0 urllib3-1.26.6\n",
      "\u001b[33mWARNING: You are using pip version 21.1.3; however, version 21.2.4 is available.\n",
      "You should consider upgrading via the '/opt/homebrew/opt/python@3.9/bin/python3.9 -m pip install --upgrade pip' command.\u001b[0m\n"
     ]
    }
   ],
   "source": [
    "!pip3 install psaw"
   ]
  },
  {
   "cell_type": "markdown",
   "id": "5605f3e9",
   "metadata": {},
   "source": [
    "Import PushshiftAPI"
   ]
  },
  {
   "cell_type": "code",
   "execution_count": 34,
   "id": "82bd2136",
   "metadata": {},
   "outputs": [],
   "source": [
    "from psaw import PushshiftAPI"
   ]
  },
  {
   "cell_type": "markdown",
   "id": "653e0281",
   "metadata": {},
   "source": [
    "Initialize PushShiftAPI"
   ]
  },
  {
   "cell_type": "code",
   "execution_count": 35,
   "id": "b0a3ceb2",
   "metadata": {},
   "outputs": [],
   "source": [
    "api = PushshiftAPI()"
   ]
  },
  {
   "cell_type": "markdown",
   "id": "04cff6ad",
   "metadata": {},
   "source": [
    "#### PSAW Usage\n",
    "\n",
    "\n",
    "To collect Reddit posts:\n",
    "\n",
    "`api.search_submissions(subreddit=\"subrredit of interest\", score=\">certain upvote score\", q=\"search keyword\", before=date, after=date)`\n",
    "\n",
    "To collect Reddit comments:\n",
    "\n",
    "`api.search_comments(subreddit=\"subrredit of interest\", score=\">certain upvote score\", q=\"search keyword\", before=date, after=date)`\n",
    "\n",
    "#### Collect Reddit submissions for a subreddit (with more than a certain upvote score)\n",
    "\n",
    "Set up generator to make API request"
   ]
  },
  {
   "cell_type": "code",
   "execution_count": 36,
   "id": "83b7acaa",
   "metadata": {},
   "outputs": [],
   "source": [
    "api_request_generator = api.search_submissions(subreddit='AmITheAsshole', score = \">2000\")"
   ]
  },
  {
   "cell_type": "markdown",
   "id": "6a2bb1d6",
   "metadata": {},
   "source": [
    "Grab data for each Reddit submission and make it into a dataframe."
   ]
  },
  {
   "cell_type": "code",
   "execution_count": 37,
   "id": "161b18d1",
   "metadata": {},
   "outputs": [],
   "source": [
    "aita_submissions = pd.DataFrame([submission.d_ for submission in api_request_generator])"
   ]
  },
  {
   "cell_type": "markdown",
   "id": "f689ce7f",
   "metadata": {},
   "source": [
    "Check how many Reddit posts have been collected."
   ]
  },
  {
   "cell_type": "code",
   "execution_count": 38,
   "id": "df3ca6d7",
   "metadata": {},
   "outputs": [
    {
     "data": {
      "text/plain": [
       "(2587, 80)"
      ]
     },
     "execution_count": 38,
     "metadata": {},
     "output_type": "execute_result"
    }
   ],
   "source": [
    "aita_submissions.shape"
   ]
  },
  {
   "cell_type": "markdown",
   "id": "cde080f3",
   "metadata": {},
   "source": [
    "Check what columns/metadata are in the dataframe."
   ]
  },
  {
   "cell_type": "code",
   "execution_count": 39,
   "id": "ef8d855e",
   "metadata": {},
   "outputs": [
    {
     "data": {
      "text/plain": [
       "Index(['all_awardings', 'allow_live_comments', 'author',\n",
       "       'author_flair_css_class', 'author_flair_richtext', 'author_flair_text',\n",
       "       'author_flair_type', 'author_fullname', 'author_is_blocked',\n",
       "       'author_patreon_flair', 'author_premium', 'awarders', 'can_mod_post',\n",
       "       'contest_mode', 'created_utc', 'domain', 'edited', 'full_link',\n",
       "       'gildings', 'id', 'is_created_from_ads_ui', 'is_crosspostable',\n",
       "       'is_meta', 'is_original_content', 'is_reddit_media_domain',\n",
       "       'is_robot_indexable', 'is_self', 'is_video',\n",
       "       'link_flair_background_color', 'link_flair_richtext',\n",
       "       'link_flair_text_color', 'link_flair_type', 'locked', 'media_only',\n",
       "       'no_follow', 'num_comments', 'num_crossposts', 'over_18',\n",
       "       'parent_whitelist_status', 'permalink', 'pinned', 'pwls',\n",
       "       'retrieved_on', 'score', 'selftext', 'send_replies', 'spoiler',\n",
       "       'stickied', 'subreddit', 'subreddit_id', 'subreddit_subscribers',\n",
       "       'subreddit_type', 'suggested_sort', 'thumbnail', 'title',\n",
       "       'total_awards_received', 'treatment_tags', 'upvote_ratio', 'url',\n",
       "       'whitelist_status', 'wls', 'created', 'author_flair_background_color',\n",
       "       'author_flair_template_id', 'author_flair_text_color',\n",
       "       'link_flair_template_id', 'link_flair_text', 'top_awarded_type',\n",
       "       'gilded', 'removed_by_category', 'post_hint', 'preview', 'banned_by',\n",
       "       'link_flair_css_class', 'author_cakeday', 'steward_reports',\n",
       "       'updated_utc', 'og_description', 'og_title', 'rte_mode'],\n",
       "      dtype='object')"
      ]
     },
     "execution_count": 39,
     "metadata": {},
     "output_type": "execute_result"
    }
   ],
   "source": [
    "aita_submissions.columns"
   ]
  },
  {
   "cell_type": "code",
   "execution_count": 40,
   "id": "2b151913",
   "metadata": {},
   "outputs": [
    {
     "data": {
      "text/html": [
       "<div>\n",
       "<style scoped>\n",
       "    .dataframe tbody tr th:only-of-type {\n",
       "        vertical-align: middle;\n",
       "    }\n",
       "\n",
       "    .dataframe tbody tr th {\n",
       "        vertical-align: top;\n",
       "    }\n",
       "\n",
       "    .dataframe thead th {\n",
       "        text-align: right;\n",
       "    }\n",
       "</style>\n",
       "<table border=\"1\" class=\"dataframe\">\n",
       "  <thead>\n",
       "    <tr style=\"text-align: right;\">\n",
       "      <th></th>\n",
       "      <th>title</th>\n",
       "      <th>score</th>\n",
       "    </tr>\n",
       "  </thead>\n",
       "  <tbody>\n",
       "    <tr>\n",
       "      <th>2052</th>\n",
       "      <td>WIBTA If I locked my own room just so my roomm...</td>\n",
       "      <td>4363</td>\n",
       "    </tr>\n",
       "    <tr>\n",
       "      <th>897</th>\n",
       "      <td>AITA for refusing to go to any more Thanksgivi...</td>\n",
       "      <td>2449</td>\n",
       "    </tr>\n",
       "    <tr>\n",
       "      <th>2353</th>\n",
       "      <td>AITA For being extremely upset and consequentl...</td>\n",
       "      <td>2100</td>\n",
       "    </tr>\n",
       "    <tr>\n",
       "      <th>459</th>\n",
       "      <td>AITA for not babysitting for my roommate</td>\n",
       "      <td>2479</td>\n",
       "    </tr>\n",
       "    <tr>\n",
       "      <th>503</th>\n",
       "      <td>AITA for refusing to visit my mother with my c...</td>\n",
       "      <td>2897</td>\n",
       "    </tr>\n",
       "    <tr>\n",
       "      <th>2279</th>\n",
       "      <td>AITA For telling my sister if her kids can't h...</td>\n",
       "      <td>5212</td>\n",
       "    </tr>\n",
       "    <tr>\n",
       "      <th>1589</th>\n",
       "      <td>AITA for not outing my dad, who I found on a g...</td>\n",
       "      <td>26300</td>\n",
       "    </tr>\n",
       "    <tr>\n",
       "      <th>792</th>\n",
       "      <td>AITA for not picking my girlfriend up for a bi...</td>\n",
       "      <td>27683</td>\n",
       "    </tr>\n",
       "    <tr>\n",
       "      <th>1288</th>\n",
       "      <td>AITA for quitting a job my mother got me becau...</td>\n",
       "      <td>2039</td>\n",
       "    </tr>\n",
       "    <tr>\n",
       "      <th>1000</th>\n",
       "      <td>AITA For not letting a coworker know that they...</td>\n",
       "      <td>2764</td>\n",
       "    </tr>\n",
       "  </tbody>\n",
       "</table>\n",
       "</div>"
      ],
      "text/plain": [
       "                                                  title  score\n",
       "2052  WIBTA If I locked my own room just so my roomm...   4363\n",
       "897   AITA for refusing to go to any more Thanksgivi...   2449\n",
       "2353  AITA For being extremely upset and consequentl...   2100\n",
       "459            AITA for not babysitting for my roommate   2479\n",
       "503   AITA for refusing to visit my mother with my c...   2897\n",
       "2279  AITA For telling my sister if her kids can't h...   5212\n",
       "1589  AITA for not outing my dad, who I found on a g...  26300\n",
       "792   AITA for not picking my girlfriend up for a bi...  27683\n",
       "1288  AITA for quitting a job my mother got me becau...   2039\n",
       "1000  AITA For not letting a coworker know that they...   2764"
      ]
     },
     "execution_count": 40,
     "metadata": {},
     "output_type": "execute_result"
    }
   ],
   "source": [
    "aita_submissions[['title', 'score']].sample(10)"
   ]
  },
  {
   "cell_type": "markdown",
   "id": "2ae9cb7e",
   "metadata": {},
   "source": [
    "Only select columns of interest and assign to a new dataframe."
   ]
  },
  {
   "cell_type": "code",
   "execution_count": 43,
   "id": "2b61eb96",
   "metadata": {},
   "outputs": [
    {
     "data": {
      "text/html": [
       "<div>\n",
       "<style scoped>\n",
       "    .dataframe tbody tr th:only-of-type {\n",
       "        vertical-align: middle;\n",
       "    }\n",
       "\n",
       "    .dataframe tbody tr th {\n",
       "        vertical-align: top;\n",
       "    }\n",
       "\n",
       "    .dataframe thead th {\n",
       "        text-align: right;\n",
       "    }\n",
       "</style>\n",
       "<table border=\"1\" class=\"dataframe\">\n",
       "  <thead>\n",
       "    <tr style=\"text-align: right;\">\n",
       "      <th></th>\n",
       "      <th>author</th>\n",
       "      <th>title</th>\n",
       "      <th>selftext</th>\n",
       "      <th>url</th>\n",
       "      <th>subreddit</th>\n",
       "      <th>score</th>\n",
       "      <th>num_comments</th>\n",
       "      <th>num_crossposts</th>\n",
       "    </tr>\n",
       "  </thead>\n",
       "  <tbody>\n",
       "    <tr>\n",
       "      <th>0</th>\n",
       "      <td>57996A4333</td>\n",
       "      <td>AITA for revealing to my wife's family we didn...</td>\n",
       "      <td>EDIT/ I didn't know about what my wife was doi...</td>\n",
       "      <td>https://www.reddit.com/r/AmItheAsshole/comment...</td>\n",
       "      <td>AmItheAsshole</td>\n",
       "      <td>3650</td>\n",
       "      <td>2157</td>\n",
       "      <td>1</td>\n",
       "    </tr>\n",
       "    <tr>\n",
       "      <th>1</th>\n",
       "      <td>Glittering_Sun_554</td>\n",
       "      <td>AITA for telling my husband I won’t be calling...</td>\n",
       "      <td>I’m currently 38+2 days pregnant and expected ...</td>\n",
       "      <td>https://www.reddit.com/r/AmItheAsshole/comment...</td>\n",
       "      <td>AmItheAsshole</td>\n",
       "      <td>2944</td>\n",
       "      <td>1397</td>\n",
       "      <td>1</td>\n",
       "    </tr>\n",
       "    <tr>\n",
       "      <th>2</th>\n",
       "      <td>Spiritual_Weekend_78</td>\n",
       "      <td>AITA because I didn't let my daughter skip a g...</td>\n",
       "      <td>My kids are Jonah (14M) and Emma (12F) and my ...</td>\n",
       "      <td>https://www.reddit.com/r/AmItheAsshole/comment...</td>\n",
       "      <td>AmItheAsshole</td>\n",
       "      <td>4461</td>\n",
       "      <td>5529</td>\n",
       "      <td>2</td>\n",
       "    </tr>\n",
       "    <tr>\n",
       "      <th>3</th>\n",
       "      <td>Additional_Whereas_6</td>\n",
       "      <td>UPDATE: AITA for booking to go away the same t...</td>\n",
       "      <td>Not sure if anyone really wanted an update but...</td>\n",
       "      <td>https://www.reddit.com/r/AmItheAsshole/comment...</td>\n",
       "      <td>AmItheAsshole</td>\n",
       "      <td>8481</td>\n",
       "      <td>1796</td>\n",
       "      <td>1</td>\n",
       "    </tr>\n",
       "    <tr>\n",
       "      <th>4</th>\n",
       "      <td>throwaway-o10</td>\n",
       "      <td>AITA for moving out because my bf won’t do any...</td>\n",
       "      <td>My bf and I moved in together at the start of ...</td>\n",
       "      <td>https://www.reddit.com/r/AmItheAsshole/comment...</td>\n",
       "      <td>AmItheAsshole</td>\n",
       "      <td>2462</td>\n",
       "      <td>1356</td>\n",
       "      <td>0</td>\n",
       "    </tr>\n",
       "    <tr>\n",
       "      <th>...</th>\n",
       "      <td>...</td>\n",
       "      <td>...</td>\n",
       "      <td>...</td>\n",
       "      <td>...</td>\n",
       "      <td>...</td>\n",
       "      <td>...</td>\n",
       "      <td>...</td>\n",
       "      <td>...</td>\n",
       "    </tr>\n",
       "    <tr>\n",
       "      <th>2582</th>\n",
       "      <td>kleen_next</td>\n",
       "      <td>AITA for shutting off the power to my neighbor...</td>\n",
       "      <td>I live in a building where the breaker box is ...</td>\n",
       "      <td>https://www.reddit.com/r/AmItheAsshole/comment...</td>\n",
       "      <td>AmItheAsshole</td>\n",
       "      <td>2330</td>\n",
       "      <td>200</td>\n",
       "      <td>0</td>\n",
       "    </tr>\n",
       "    <tr>\n",
       "      <th>2583</th>\n",
       "      <td>BackgroundJellyfish</td>\n",
       "      <td>AITA for hitting my girlfriend out of reflex f...</td>\n",
       "      <td>Hi, so my girlfriend and i watched a horror mo...</td>\n",
       "      <td>https://www.reddit.com/r/AmItheAsshole/comment...</td>\n",
       "      <td>AmItheAsshole</td>\n",
       "      <td>2719</td>\n",
       "      <td>405</td>\n",
       "      <td>1</td>\n",
       "    </tr>\n",
       "    <tr>\n",
       "      <th>2584</th>\n",
       "      <td>Marylebone_Road</td>\n",
       "      <td>AITA for thinking that this sub is only so peo...</td>\n",
       "      <td></td>\n",
       "      <td>https://www.reddit.com/r/AmItheAsshole/comment...</td>\n",
       "      <td>AmItheAsshole</td>\n",
       "      <td>2001</td>\n",
       "      <td>104</td>\n",
       "      <td>0</td>\n",
       "    </tr>\n",
       "    <tr>\n",
       "      <th>2585</th>\n",
       "      <td>grizzythekid</td>\n",
       "      <td>AITA for throwing a soda on the ground near th...</td>\n",
       "      <td>I was going to McDonald's for a quick bite to ...</td>\n",
       "      <td>https://www.reddit.com/r/AmItheAsshole/comment...</td>\n",
       "      <td>AmItheAsshole</td>\n",
       "      <td>3532</td>\n",
       "      <td>90</td>\n",
       "      <td>0</td>\n",
       "    </tr>\n",
       "    <tr>\n",
       "      <th>2586</th>\n",
       "      <td>Pettheftthrow</td>\n",
       "      <td>AITA for refusing to return a lost pet?</td>\n",
       "      <td>So over two years ago a cat appeared in my yar...</td>\n",
       "      <td>https://www.reddit.com/r/AmItheAsshole/comment...</td>\n",
       "      <td>AmItheAsshole</td>\n",
       "      <td>2387</td>\n",
       "      <td>169</td>\n",
       "      <td>0</td>\n",
       "    </tr>\n",
       "  </tbody>\n",
       "</table>\n",
       "<p>2587 rows × 8 columns</p>\n",
       "</div>"
      ],
      "text/plain": [
       "                    author                                              title  \\\n",
       "0               57996A4333  AITA for revealing to my wife's family we didn...   \n",
       "1       Glittering_Sun_554  AITA for telling my husband I won’t be calling...   \n",
       "2     Spiritual_Weekend_78  AITA because I didn't let my daughter skip a g...   \n",
       "3     Additional_Whereas_6  UPDATE: AITA for booking to go away the same t...   \n",
       "4            throwaway-o10  AITA for moving out because my bf won’t do any...   \n",
       "...                    ...                                                ...   \n",
       "2582            kleen_next  AITA for shutting off the power to my neighbor...   \n",
       "2583   BackgroundJellyfish  AITA for hitting my girlfriend out of reflex f...   \n",
       "2584       Marylebone_Road  AITA for thinking that this sub is only so peo...   \n",
       "2585          grizzythekid  AITA for throwing a soda on the ground near th...   \n",
       "2586         Pettheftthrow            AITA for refusing to return a lost pet?   \n",
       "\n",
       "                                               selftext  \\\n",
       "0     EDIT/ I didn't know about what my wife was doi...   \n",
       "1     I’m currently 38+2 days pregnant and expected ...   \n",
       "2     My kids are Jonah (14M) and Emma (12F) and my ...   \n",
       "3     Not sure if anyone really wanted an update but...   \n",
       "4     My bf and I moved in together at the start of ...   \n",
       "...                                                 ...   \n",
       "2582  I live in a building where the breaker box is ...   \n",
       "2583  Hi, so my girlfriend and i watched a horror mo...   \n",
       "2584                                                      \n",
       "2585  I was going to McDonald's for a quick bite to ...   \n",
       "2586  So over two years ago a cat appeared in my yar...   \n",
       "\n",
       "                                                    url      subreddit  score  \\\n",
       "0     https://www.reddit.com/r/AmItheAsshole/comment...  AmItheAsshole   3650   \n",
       "1     https://www.reddit.com/r/AmItheAsshole/comment...  AmItheAsshole   2944   \n",
       "2     https://www.reddit.com/r/AmItheAsshole/comment...  AmItheAsshole   4461   \n",
       "3     https://www.reddit.com/r/AmItheAsshole/comment...  AmItheAsshole   8481   \n",
       "4     https://www.reddit.com/r/AmItheAsshole/comment...  AmItheAsshole   2462   \n",
       "...                                                 ...            ...    ...   \n",
       "2582  https://www.reddit.com/r/AmItheAsshole/comment...  AmItheAsshole   2330   \n",
       "2583  https://www.reddit.com/r/AmItheAsshole/comment...  AmItheAsshole   2719   \n",
       "2584  https://www.reddit.com/r/AmItheAsshole/comment...  AmItheAsshole   2001   \n",
       "2585  https://www.reddit.com/r/AmItheAsshole/comment...  AmItheAsshole   3532   \n",
       "2586  https://www.reddit.com/r/AmItheAsshole/comment...  AmItheAsshole   2387   \n",
       "\n",
       "      num_comments  num_crossposts  \n",
       "0             2157               1  \n",
       "1             1397               1  \n",
       "2             5529               2  \n",
       "3             1796               1  \n",
       "4             1356               0  \n",
       "...            ...             ...  \n",
       "2582           200               0  \n",
       "2583           405               1  \n",
       "2584           104               0  \n",
       "2585            90               0  \n",
       "2586           169               0  \n",
       "\n",
       "[2587 rows x 8 columns]"
      ]
     },
     "execution_count": 43,
     "metadata": {},
     "output_type": "execute_result"
    }
   ],
   "source": [
    "aita_final = aita_submissions[['author', 'title', 'selftext', 'url', 'subreddit', 'score', 'num_comments', 'num_crossposts']]\n",
    "\n",
    "aita_final"
   ]
  },
  {
   "cell_type": "markdown",
   "id": "e38fe52f",
   "metadata": {},
   "source": [
    "Now, we can export our finalized cleaned dataframe into a csv file."
   ]
  },
  {
   "cell_type": "code",
   "execution_count": 44,
   "id": "40131727",
   "metadata": {},
   "outputs": [],
   "source": [
    "aita_final.to_csv(\"top_aita_submissions.csv\", encoding='utf-8', index=False)"
   ]
  },
  {
   "cell_type": "code",
   "execution_count": null,
   "id": "9ef7e112",
   "metadata": {},
   "outputs": [],
   "source": []
  }
 ],
 "metadata": {
  "kernelspec": {
   "display_name": "Python 3 (ipykernel)",
   "language": "python",
   "name": "python3"
  },
  "language_info": {
   "codemirror_mode": {
    "name": "ipython",
    "version": 3
   },
   "file_extension": ".py",
   "mimetype": "text/x-python",
   "name": "python",
   "nbconvert_exporter": "python",
   "pygments_lexer": "ipython3",
   "version": "3.9.6"
  }
 },
 "nbformat": 4,
 "nbformat_minor": 5
}
