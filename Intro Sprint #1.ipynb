{
 "cells": [
  {
   "cell_type": "markdown",
   "id": "ca52ae35",
   "metadata": {},
   "source": [
    "### **Intro Sprint #1**\n",
    "# Data Collection and Cleaning with Jupyter \n",
    "\n",
    "## Introduction to Jupyter Notebook\n",
    "\n",
    "Jupyter Notebook is a really easy and user friendly way to experiment with Python code, combining code with notes and documentation. You can do all of this without having use the command line, and the resulting file can be easily published and shared with other people.\n",
    "\n",
    "An Jupyter Notebook consists of a number of \"cells,\" stacked on the page from top to bottom. Cells can have text or code in them. You can change a cell's type using the \"Cell\" menu at the top of the page; go to Cell > Cell Type and select either Code for Python code or Markdown for text. (You can also change this for the current cell using the drop-down menu in the toolbar.)\n",
    "\n",
    "#### Text Cells\n",
    "First, make a new cell, change its type to Markdown, type some stuff and click run. Jupyter Notebook will \"render\" the text and display it on the page in rendered format. You can hit Enter or click in the cell to edit its contents again. Text in Markdown cells is rendered according to a set of conventions called Markdown, a language for marking up text using formatting instructions.\n",
    "\n",
    "#### Code Cells\n"
   ]
  },
  {
   "cell_type": "code",
   "execution_count": 1,
   "id": "408625d7",
   "metadata": {},
   "outputs": [
    {
     "name": "stdout",
     "output_type": "stream",
     "text": [
      "This is a code cell.\n",
      "\n",
      "Any Python code you type in this cell will be run when you press the 'Run' button,\n"
     ]
    }
   ],
   "source": [
    "print(\"This is a code cell.\")\n",
    "print(\"\")\n",
    "print(\"Any Python code you type in this cell will be run when you press the 'Run' button,\")"
   ]
  },
  {
   "cell_type": "markdown",
   "id": "b015f2a7",
   "metadata": {},
   "source": [
    "You can define variables or import modules in one code cell and it will be available for you to in all subsequent code cells."
   ]
  },
  {
   "cell_type": "code",
   "execution_count": 2,
   "id": "b73ebbf1",
   "metadata": {},
   "outputs": [],
   "source": [
    "import random\n",
    "animals = [\"dog\", \"cat\", \"elephant\", \"zebra\"]"
   ]
  },
  {
   "cell_type": "markdown",
   "id": "bd2a6ae2",
   "metadata": {},
   "source": [
    "Now, you can use the list of animals and the random module in the cell below."
   ]
  },
  {
   "cell_type": "code",
   "execution_count": 3,
   "id": "0c9a8d39",
   "metadata": {},
   "outputs": [
    {
     "name": "stdout",
     "output_type": "stream",
     "text": [
      "dog\n"
     ]
    }
   ],
   "source": [
    "print(random.choice(animals))"
   ]
  },
  {
   "cell_type": "markdown",
   "id": "63b3359a",
   "metadata": {},
   "source": [
    "## Python Modules\n",
    "\n",
    "Modules refer to a file containing Python statements and definitions. Above, we imported the random module which has many functions for randomizing distributions of numbers. We used the choice function which returns a random element from a sequence.\n",
    "\n",
    "Throughout, we will be using common modules."
   ]
  },
  {
   "cell_type": "code",
   "execution_count": 25,
   "id": "e565a4eb",
   "metadata": {},
   "outputs": [],
   "source": [
    "import numpy as np\n",
    "import matplotlib.pyplot as plt\n",
    "import pandas as pd"
   ]
  },
  {
   "cell_type": "markdown",
   "id": "95151ccd",
   "metadata": {},
   "source": [
    "\n",
    "## Data Collection\n",
    "\n",
    "For the purposes of our introductory sprint, we will be collecting data either through importing a csv file or web scraping (specifically with social media), but we will focus on web scraping in a later notebook.\n",
    "\n",
    "In this, we will be using a dataset on poverty measures in New York City. This data was downloaded from [NYC Open Data](https://data.cityofnewyork.us/City-Government/NYCgov-Poverty-Measure-Data-2018-/cts7-vksw)."
   ]
  },
  {
   "cell_type": "code",
   "execution_count": 26,
   "id": "53d987de",
   "metadata": {},
   "outputs": [],
   "source": [
    "poverty = pd.read_csv('nyc_poverty_2018.csv')"
   ]
  },
  {
   "cell_type": "markdown",
   "id": "9682e499",
   "metadata": {},
   "source": [
    "We can use the head function to show the first five rows of the dataset (or tail to show the last five rows). We can also use the shape function to see the dimensions of our dataset."
   ]
  },
  {
   "cell_type": "code",
   "execution_count": 27,
   "id": "032545a9",
   "metadata": {},
   "outputs": [
    {
     "data": {
      "text/html": [
       "<div>\n",
       "<style scoped>\n",
       "    .dataframe tbody tr th:only-of-type {\n",
       "        vertical-align: middle;\n",
       "    }\n",
       "\n",
       "    .dataframe tbody tr th {\n",
       "        vertical-align: top;\n",
       "    }\n",
       "\n",
       "    .dataframe thead th {\n",
       "        text-align: right;\n",
       "    }\n",
       "</style>\n",
       "<table border=\"1\" class=\"dataframe\">\n",
       "  <thead>\n",
       "    <tr style=\"text-align: right;\">\n",
       "      <th></th>\n",
       "      <th>SERIALNO</th>\n",
       "      <th>SPORDER</th>\n",
       "      <th>PWGTP</th>\n",
       "      <th>WGTP</th>\n",
       "      <th>AGEP</th>\n",
       "      <th>CIT</th>\n",
       "      <th>REL</th>\n",
       "      <th>SCH</th>\n",
       "      <th>SCHG</th>\n",
       "      <th>SCHL</th>\n",
       "      <th>...</th>\n",
       "      <th>Povunit_ID</th>\n",
       "      <th>Povunit_Rel</th>\n",
       "      <th>PreTaxIncome_PU</th>\n",
       "      <th>RETP_adj</th>\n",
       "      <th>RNTP_adj</th>\n",
       "      <th>SEMP_adj</th>\n",
       "      <th>SSIP_adj</th>\n",
       "      <th>SSP_adj</th>\n",
       "      <th>TotalWorkHrs_PU</th>\n",
       "      <th>WAGP_adj</th>\n",
       "    </tr>\n",
       "  </thead>\n",
       "  <tbody>\n",
       "    <tr>\n",
       "      <th>0</th>\n",
       "      <td>1</td>\n",
       "      <td>1</td>\n",
       "      <td>95</td>\n",
       "      <td>95</td>\n",
       "      <td>31</td>\n",
       "      <td>1</td>\n",
       "      <td>0</td>\n",
       "      <td>1</td>\n",
       "      <td>0</td>\n",
       "      <td>22.0</td>\n",
       "      <td>...</td>\n",
       "      <td>1</td>\n",
       "      <td>1</td>\n",
       "      <td>127650.22</td>\n",
       "      <td>0.0</td>\n",
       "      <td>0.0</td>\n",
       "      <td>0.0</td>\n",
       "      <td>0.0</td>\n",
       "      <td>0.000</td>\n",
       "      <td>2</td>\n",
       "      <td>127650.220</td>\n",
       "    </tr>\n",
       "    <tr>\n",
       "      <th>1</th>\n",
       "      <td>16</td>\n",
       "      <td>1</td>\n",
       "      <td>181</td>\n",
       "      <td>181</td>\n",
       "      <td>63</td>\n",
       "      <td>1</td>\n",
       "      <td>0</td>\n",
       "      <td>1</td>\n",
       "      <td>0</td>\n",
       "      <td>22.0</td>\n",
       "      <td>...</td>\n",
       "      <td>1</td>\n",
       "      <td>1</td>\n",
       "      <td>346479.19</td>\n",
       "      <td>0.0</td>\n",
       "      <td>0.0</td>\n",
       "      <td>0.0</td>\n",
       "      <td>0.0</td>\n",
       "      <td>0.000</td>\n",
       "      <td>2</td>\n",
       "      <td>182357.450</td>\n",
       "    </tr>\n",
       "    <tr>\n",
       "      <th>2</th>\n",
       "      <td>16</td>\n",
       "      <td>2</td>\n",
       "      <td>210</td>\n",
       "      <td>181</td>\n",
       "      <td>65</td>\n",
       "      <td>1</td>\n",
       "      <td>1</td>\n",
       "      <td>1</td>\n",
       "      <td>0</td>\n",
       "      <td>19.0</td>\n",
       "      <td>...</td>\n",
       "      <td>1</td>\n",
       "      <td>2</td>\n",
       "      <td>346479.19</td>\n",
       "      <td>0.0</td>\n",
       "      <td>0.0</td>\n",
       "      <td>0.0</td>\n",
       "      <td>0.0</td>\n",
       "      <td>12157.164</td>\n",
       "      <td>2</td>\n",
       "      <td>0.000</td>\n",
       "    </tr>\n",
       "    <tr>\n",
       "      <th>3</th>\n",
       "      <td>47</td>\n",
       "      <td>1</td>\n",
       "      <td>62</td>\n",
       "      <td>62</td>\n",
       "      <td>68</td>\n",
       "      <td>4</td>\n",
       "      <td>0</td>\n",
       "      <td>1</td>\n",
       "      <td>0</td>\n",
       "      <td>1.0</td>\n",
       "      <td>...</td>\n",
       "      <td>1</td>\n",
       "      <td>1</td>\n",
       "      <td>155003.84</td>\n",
       "      <td>0.0</td>\n",
       "      <td>0.0</td>\n",
       "      <td>0.0</td>\n",
       "      <td>0.0</td>\n",
       "      <td>27353.619</td>\n",
       "      <td>1</td>\n",
       "      <td>91178.727</td>\n",
       "    </tr>\n",
       "    <tr>\n",
       "      <th>4</th>\n",
       "      <td>47</td>\n",
       "      <td>2</td>\n",
       "      <td>71</td>\n",
       "      <td>62</td>\n",
       "      <td>63</td>\n",
       "      <td>4</td>\n",
       "      <td>1</td>\n",
       "      <td>1</td>\n",
       "      <td>0</td>\n",
       "      <td>1.0</td>\n",
       "      <td>...</td>\n",
       "      <td>1</td>\n",
       "      <td>2</td>\n",
       "      <td>155003.84</td>\n",
       "      <td>0.0</td>\n",
       "      <td>0.0</td>\n",
       "      <td>0.0</td>\n",
       "      <td>0.0</td>\n",
       "      <td>0.000</td>\n",
       "      <td>1</td>\n",
       "      <td>36471.492</td>\n",
       "    </tr>\n",
       "  </tbody>\n",
       "</table>\n",
       "<p>5 rows × 61 columns</p>\n",
       "</div>"
      ],
      "text/plain": [
       "   SERIALNO  SPORDER  PWGTP  WGTP  AGEP  CIT  REL  SCH  SCHG  SCHL  ...  \\\n",
       "0         1        1     95    95    31    1    0    1     0  22.0  ...   \n",
       "1        16        1    181   181    63    1    0    1     0  22.0  ...   \n",
       "2        16        2    210   181    65    1    1    1     0  19.0  ...   \n",
       "3        47        1     62    62    68    4    0    1     0   1.0  ...   \n",
       "4        47        2     71    62    63    4    1    1     0   1.0  ...   \n",
       "\n",
       "   Povunit_ID  Povunit_Rel  PreTaxIncome_PU  RETP_adj  RNTP_adj  SEMP_adj  \\\n",
       "0           1            1        127650.22       0.0       0.0       0.0   \n",
       "1           1            1        346479.19       0.0       0.0       0.0   \n",
       "2           1            2        346479.19       0.0       0.0       0.0   \n",
       "3           1            1        155003.84       0.0       0.0       0.0   \n",
       "4           1            2        155003.84       0.0       0.0       0.0   \n",
       "\n",
       "   SSIP_adj    SSP_adj  TotalWorkHrs_PU    WAGP_adj  \n",
       "0       0.0      0.000                2  127650.220  \n",
       "1       0.0      0.000                2  182357.450  \n",
       "2       0.0  12157.164                2       0.000  \n",
       "3       0.0  27353.619                1   91178.727  \n",
       "4       0.0      0.000                1   36471.492  \n",
       "\n",
       "[5 rows x 61 columns]"
      ]
     },
     "metadata": {},
     "output_type": "display_data"
    },
    {
     "name": "stdout",
     "output_type": "stream",
     "text": [
      "(68273, 61)\n"
     ]
    }
   ],
   "source": [
    "display(poverty.head())\n",
    "print(poverty.shape)"
   ]
  },
  {
   "cell_type": "markdown",
   "id": "f0f306fc",
   "metadata": {},
   "source": [
    "After looking at our data, we can see that we have a ton of columns (61), and the columns don't seem to have very self explanatory names. On the NYC Open Data website, the dataset comes with a data dictionary that explains the columns. If you want, you can look at all the column descriptions. But, for our purposes, we will just show you how to rename them and drop unnecassry columns.\n",
    "\n",
    "We will drop uncessary columns by only selecting the ones we want to keep. There are many more ways to drop columns that you can search up."
   ]
  },
  {
   "cell_type": "code",
   "execution_count": 28,
   "id": "40dbe801",
   "metadata": {},
   "outputs": [
    {
     "data": {
      "text/html": [
       "<div>\n",
       "<style scoped>\n",
       "    .dataframe tbody tr th:only-of-type {\n",
       "        vertical-align: middle;\n",
       "    }\n",
       "\n",
       "    .dataframe tbody tr th {\n",
       "        vertical-align: top;\n",
       "    }\n",
       "\n",
       "    .dataframe thead th {\n",
       "        text-align: right;\n",
       "    }\n",
       "</style>\n",
       "<table border=\"1\" class=\"dataframe\">\n",
       "  <thead>\n",
       "    <tr style=\"text-align: right;\">\n",
       "      <th></th>\n",
       "      <th>AgeCateg</th>\n",
       "      <th>Boro</th>\n",
       "      <th>CitizenStatus</th>\n",
       "      <th>EducAttain</th>\n",
       "      <th>EST_Childcare</th>\n",
       "      <th>NYCgov_Income</th>\n",
       "      <th>EST_PovGap</th>\n",
       "      <th>EST_PovGapIndex</th>\n",
       "      <th>Ethnicity</th>\n",
       "    </tr>\n",
       "  </thead>\n",
       "  <tbody>\n",
       "    <tr>\n",
       "      <th>0</th>\n",
       "      <td>2</td>\n",
       "      <td>2</td>\n",
       "      <td>1</td>\n",
       "      <td>4.0</td>\n",
       "      <td>0.0</td>\n",
       "      <td>81417.961</td>\n",
       "      <td>0.0</td>\n",
       "      <td>0.0</td>\n",
       "      <td>4</td>\n",
       "    </tr>\n",
       "    <tr>\n",
       "      <th>1</th>\n",
       "      <td>2</td>\n",
       "      <td>3</td>\n",
       "      <td>1</td>\n",
       "      <td>4.0</td>\n",
       "      <td>0.0</td>\n",
       "      <td>228417.950</td>\n",
       "      <td>0.0</td>\n",
       "      <td>0.0</td>\n",
       "      <td>1</td>\n",
       "    </tr>\n",
       "    <tr>\n",
       "      <th>2</th>\n",
       "      <td>3</td>\n",
       "      <td>3</td>\n",
       "      <td>1</td>\n",
       "      <td>3.0</td>\n",
       "      <td>0.0</td>\n",
       "      <td>228417.950</td>\n",
       "      <td>0.0</td>\n",
       "      <td>0.0</td>\n",
       "      <td>1</td>\n",
       "    </tr>\n",
       "    <tr>\n",
       "      <th>3</th>\n",
       "      <td>3</td>\n",
       "      <td>2</td>\n",
       "      <td>2</td>\n",
       "      <td>1.0</td>\n",
       "      <td>0.0</td>\n",
       "      <td>117058.230</td>\n",
       "      <td>0.0</td>\n",
       "      <td>0.0</td>\n",
       "      <td>1</td>\n",
       "    </tr>\n",
       "    <tr>\n",
       "      <th>4</th>\n",
       "      <td>2</td>\n",
       "      <td>2</td>\n",
       "      <td>2</td>\n",
       "      <td>1.0</td>\n",
       "      <td>0.0</td>\n",
       "      <td>117058.230</td>\n",
       "      <td>0.0</td>\n",
       "      <td>0.0</td>\n",
       "      <td>1</td>\n",
       "    </tr>\n",
       "  </tbody>\n",
       "</table>\n",
       "</div>"
      ],
      "text/plain": [
       "   AgeCateg  Boro  CitizenStatus  EducAttain  EST_Childcare  NYCgov_Income  \\\n",
       "0         2     2              1         4.0            0.0      81417.961   \n",
       "1         2     3              1         4.0            0.0     228417.950   \n",
       "2         3     3              1         3.0            0.0     228417.950   \n",
       "3         3     2              2         1.0            0.0     117058.230   \n",
       "4         2     2              2         1.0            0.0     117058.230   \n",
       "\n",
       "   EST_PovGap  EST_PovGapIndex  Ethnicity  \n",
       "0         0.0              0.0          4  \n",
       "1         0.0              0.0          1  \n",
       "2         0.0              0.0          1  \n",
       "3         0.0              0.0          1  \n",
       "4         0.0              0.0          1  "
      ]
     },
     "execution_count": 28,
     "metadata": {},
     "output_type": "execute_result"
    }
   ],
   "source": [
    "poverty = poverty[['AgeCateg', 'Boro','CitizenStatus', 'EducAttain', 'EST_Childcare', 'NYCgov_Income',\n",
    "                   'EST_PovGap','EST_PovGapIndex', 'Ethnicity']]\n",
    "poverty.head()"
   ]
  },
  {
   "cell_type": "markdown",
   "id": "dc374329",
   "metadata": {},
   "source": [
    "Now, let's rename our columns into something more descriptive and drop all rows with na values."
   ]
  },
  {
   "cell_type": "code",
   "execution_count": 29,
   "id": "62ef15b6",
   "metadata": {},
   "outputs": [
    {
     "data": {
      "text/html": [
       "<div>\n",
       "<style scoped>\n",
       "    .dataframe tbody tr th:only-of-type {\n",
       "        vertical-align: middle;\n",
       "    }\n",
       "\n",
       "    .dataframe tbody tr th {\n",
       "        vertical-align: top;\n",
       "    }\n",
       "\n",
       "    .dataframe thead th {\n",
       "        text-align: right;\n",
       "    }\n",
       "</style>\n",
       "<table border=\"1\" class=\"dataframe\">\n",
       "  <thead>\n",
       "    <tr style=\"text-align: right;\">\n",
       "      <th></th>\n",
       "      <th>age</th>\n",
       "      <th>borough</th>\n",
       "      <th>citizen</th>\n",
       "      <th>education</th>\n",
       "      <th>childcare</th>\n",
       "      <th>income</th>\n",
       "      <th>pov_gap</th>\n",
       "      <th>pov_gap_ratio</th>\n",
       "      <th>ethnicity</th>\n",
       "    </tr>\n",
       "  </thead>\n",
       "  <tbody>\n",
       "    <tr>\n",
       "      <th>0</th>\n",
       "      <td>2</td>\n",
       "      <td>2</td>\n",
       "      <td>1</td>\n",
       "      <td>4.0</td>\n",
       "      <td>0.0</td>\n",
       "      <td>81417.961</td>\n",
       "      <td>0.0</td>\n",
       "      <td>0.0</td>\n",
       "      <td>4</td>\n",
       "    </tr>\n",
       "    <tr>\n",
       "      <th>1</th>\n",
       "      <td>2</td>\n",
       "      <td>3</td>\n",
       "      <td>1</td>\n",
       "      <td>4.0</td>\n",
       "      <td>0.0</td>\n",
       "      <td>228417.950</td>\n",
       "      <td>0.0</td>\n",
       "      <td>0.0</td>\n",
       "      <td>1</td>\n",
       "    </tr>\n",
       "    <tr>\n",
       "      <th>2</th>\n",
       "      <td>3</td>\n",
       "      <td>3</td>\n",
       "      <td>1</td>\n",
       "      <td>3.0</td>\n",
       "      <td>0.0</td>\n",
       "      <td>228417.950</td>\n",
       "      <td>0.0</td>\n",
       "      <td>0.0</td>\n",
       "      <td>1</td>\n",
       "    </tr>\n",
       "    <tr>\n",
       "      <th>3</th>\n",
       "      <td>3</td>\n",
       "      <td>2</td>\n",
       "      <td>2</td>\n",
       "      <td>1.0</td>\n",
       "      <td>0.0</td>\n",
       "      <td>117058.230</td>\n",
       "      <td>0.0</td>\n",
       "      <td>0.0</td>\n",
       "      <td>1</td>\n",
       "    </tr>\n",
       "    <tr>\n",
       "      <th>4</th>\n",
       "      <td>2</td>\n",
       "      <td>2</td>\n",
       "      <td>2</td>\n",
       "      <td>1.0</td>\n",
       "      <td>0.0</td>\n",
       "      <td>117058.230</td>\n",
       "      <td>0.0</td>\n",
       "      <td>0.0</td>\n",
       "      <td>1</td>\n",
       "    </tr>\n",
       "  </tbody>\n",
       "</table>\n",
       "</div>"
      ],
      "text/plain": [
       "   age  borough  citizen  education  childcare      income  pov_gap  \\\n",
       "0    2        2        1        4.0        0.0   81417.961      0.0   \n",
       "1    2        3        1        4.0        0.0  228417.950      0.0   \n",
       "2    3        3        1        3.0        0.0  228417.950      0.0   \n",
       "3    3        2        2        1.0        0.0  117058.230      0.0   \n",
       "4    2        2        2        1.0        0.0  117058.230      0.0   \n",
       "\n",
       "   pov_gap_ratio  ethnicity  \n",
       "0            0.0          4  \n",
       "1            0.0          1  \n",
       "2            0.0          1  \n",
       "3            0.0          1  \n",
       "4            0.0          1  "
      ]
     },
     "execution_count": 29,
     "metadata": {},
     "output_type": "execute_result"
    }
   ],
   "source": [
    "poverty=poverty.copy()\n",
    "poverty.rename(columns = {'AgeCateg' : 'age', 'Boro' : 'borough', 'CitizenStatus' : 'citizen', 'EducAttain' : 'education',\n",
    "                                         'EST_Childcare' : 'childcare', 'EST_PovGap' : 'pov_gap', 'EST_PovGapIndex' : 'pov_gap_ratio',\n",
    "                          'Ethnicity' : 'ethnicity', 'NYCgov_Income': 'income'},\n",
    "               inplace = True)\n",
    "poverty.dropna()\n",
    "poverty.head()"
   ]
  },
  {
   "cell_type": "markdown",
   "id": "897eb830",
   "metadata": {},
   "source": [
    "Looking at the rows of these columns seems quite undescriptive as well. In our data dictionary, we can see that each number corresponds to a different category for each column.\n",
    "\n",
    "For example, in borough:\n",
    "1 = Bronx, 2 = Brooklyn, 3 = Manhattan, 4 = Queens, 5 = Staten Island\n",
    "\n",
    "Let's replace our values with their categorical values. There are many ways to do this, but in this example we use a [for loop](https://wiki.python.org/moin/ForLoop) to loop through all the values in the column and append their string values to an array based on their condition."
   ]
  },
  {
   "cell_type": "code",
   "execution_count": 30,
   "id": "f281ea7c",
   "metadata": {},
   "outputs": [
    {
     "data": {
      "text/html": [
       "<div>\n",
       "<style scoped>\n",
       "    .dataframe tbody tr th:only-of-type {\n",
       "        vertical-align: middle;\n",
       "    }\n",
       "\n",
       "    .dataframe tbody tr th {\n",
       "        vertical-align: top;\n",
       "    }\n",
       "\n",
       "    .dataframe thead th {\n",
       "        text-align: right;\n",
       "    }\n",
       "</style>\n",
       "<table border=\"1\" class=\"dataframe\">\n",
       "  <thead>\n",
       "    <tr style=\"text-align: right;\">\n",
       "      <th></th>\n",
       "      <th>age</th>\n",
       "      <th>borough</th>\n",
       "      <th>citizen</th>\n",
       "      <th>education</th>\n",
       "      <th>childcare</th>\n",
       "      <th>income</th>\n",
       "      <th>pov_gap</th>\n",
       "      <th>pov_gap_ratio</th>\n",
       "      <th>ethnicity</th>\n",
       "    </tr>\n",
       "  </thead>\n",
       "  <tbody>\n",
       "    <tr>\n",
       "      <th>0</th>\n",
       "      <td>2</td>\n",
       "      <td>Brooklyn</td>\n",
       "      <td>1</td>\n",
       "      <td>4.0</td>\n",
       "      <td>0.0</td>\n",
       "      <td>81417.961</td>\n",
       "      <td>0.0</td>\n",
       "      <td>0.0</td>\n",
       "      <td>4</td>\n",
       "    </tr>\n",
       "    <tr>\n",
       "      <th>1</th>\n",
       "      <td>2</td>\n",
       "      <td>Manhattan</td>\n",
       "      <td>1</td>\n",
       "      <td>4.0</td>\n",
       "      <td>0.0</td>\n",
       "      <td>228417.950</td>\n",
       "      <td>0.0</td>\n",
       "      <td>0.0</td>\n",
       "      <td>1</td>\n",
       "    </tr>\n",
       "    <tr>\n",
       "      <th>2</th>\n",
       "      <td>3</td>\n",
       "      <td>Manhattan</td>\n",
       "      <td>1</td>\n",
       "      <td>3.0</td>\n",
       "      <td>0.0</td>\n",
       "      <td>228417.950</td>\n",
       "      <td>0.0</td>\n",
       "      <td>0.0</td>\n",
       "      <td>1</td>\n",
       "    </tr>\n",
       "    <tr>\n",
       "      <th>3</th>\n",
       "      <td>3</td>\n",
       "      <td>Brooklyn</td>\n",
       "      <td>2</td>\n",
       "      <td>1.0</td>\n",
       "      <td>0.0</td>\n",
       "      <td>117058.230</td>\n",
       "      <td>0.0</td>\n",
       "      <td>0.0</td>\n",
       "      <td>1</td>\n",
       "    </tr>\n",
       "    <tr>\n",
       "      <th>4</th>\n",
       "      <td>2</td>\n",
       "      <td>Brooklyn</td>\n",
       "      <td>2</td>\n",
       "      <td>1.0</td>\n",
       "      <td>0.0</td>\n",
       "      <td>117058.230</td>\n",
       "      <td>0.0</td>\n",
       "      <td>0.0</td>\n",
       "      <td>1</td>\n",
       "    </tr>\n",
       "  </tbody>\n",
       "</table>\n",
       "</div>"
      ],
      "text/plain": [
       "   age    borough  citizen  education  childcare      income  pov_gap  \\\n",
       "0    2   Brooklyn        1        4.0        0.0   81417.961      0.0   \n",
       "1    2  Manhattan        1        4.0        0.0  228417.950      0.0   \n",
       "2    3  Manhattan        1        3.0        0.0  228417.950      0.0   \n",
       "3    3   Brooklyn        2        1.0        0.0  117058.230      0.0   \n",
       "4    2   Brooklyn        2        1.0        0.0  117058.230      0.0   \n",
       "\n",
       "   pov_gap_ratio  ethnicity  \n",
       "0            0.0          4  \n",
       "1            0.0          1  \n",
       "2            0.0          1  \n",
       "3            0.0          1  \n",
       "4            0.0          1  "
      ]
     },
     "execution_count": 30,
     "metadata": {},
     "output_type": "execute_result"
    }
   ],
   "source": [
    "borough = []\n",
    "for x in poverty['borough']:\n",
    "    if x == 1:\n",
    "        borough.append('Bronx')\n",
    "    if x == 2:\n",
    "        borough.append('Brooklyn')\n",
    "    if x == 3:\n",
    "        borough.append('Manhattan')\n",
    "    if x == 4:\n",
    "        borough.append('Queens')\n",
    "    if x == 5:\n",
    "        borough.append('Staten Island')\n",
    "poverty['borough'] = borough\n",
    "poverty.head()"
   ]
  },
  {
   "cell_type": "markdown",
   "id": "7acfd807",
   "metadata": {},
   "source": [
    "So now we can see that our borough values are populated with meaningful words! We'll show a few more examples, and if you want you can try the remaining column on your own. For childcare, income, and poverty gap, these are dollar amounts so we do not have to alter them."
   ]
  },
  {
   "cell_type": "code",
   "execution_count": 31,
   "id": "057dff67",
   "metadata": {},
   "outputs": [],
   "source": [
    "# age\n",
    "age = []\n",
    "for x in poverty['age']:\n",
    "    if x == 1:\n",
    "        age.append('>18')\n",
    "    if x == 2:\n",
    "        age.append('18-64')\n",
    "    if x == 3:\n",
    "        age.append('65+')\n",
    "poverty['age'] = age\n",
    "poverty.head()\n",
    "\n",
    "# citizen\n",
    "citizen = []\n",
    "for x in poverty['citizen']:\n",
    "    if x == 1:\n",
    "        citizen.append('citizen')\n",
    "    if x == 2:\n",
    "        citizen.append('citizen')\n",
    "    if x == 3:\n",
    "        citizen.append('noncitizen')\n",
    "poverty['citizen'] = citizen\n"
   ]
  },
  {
   "cell_type": "code",
   "execution_count": 48,
   "id": "d0ede0a8",
   "metadata": {},
   "outputs": [
    {
     "data": {
      "text/html": [
       "<div>\n",
       "<style scoped>\n",
       "    .dataframe tbody tr th:only-of-type {\n",
       "        vertical-align: middle;\n",
       "    }\n",
       "\n",
       "    .dataframe tbody tr th {\n",
       "        vertical-align: top;\n",
       "    }\n",
       "\n",
       "    .dataframe thead th {\n",
       "        text-align: right;\n",
       "    }\n",
       "</style>\n",
       "<table border=\"1\" class=\"dataframe\">\n",
       "  <thead>\n",
       "    <tr style=\"text-align: right;\">\n",
       "      <th></th>\n",
       "      <th>age</th>\n",
       "      <th>borough</th>\n",
       "      <th>citizen</th>\n",
       "      <th>education</th>\n",
       "      <th>childcare</th>\n",
       "      <th>income</th>\n",
       "      <th>pov_gap</th>\n",
       "      <th>pov_gap_ratio</th>\n",
       "      <th>ethnicity</th>\n",
       "    </tr>\n",
       "  </thead>\n",
       "  <tbody>\n",
       "    <tr>\n",
       "      <th>0</th>\n",
       "      <td>18-64</td>\n",
       "      <td>Brooklyn</td>\n",
       "      <td>citizen</td>\n",
       "      <td>4.0</td>\n",
       "      <td>0.0</td>\n",
       "      <td>81417.961</td>\n",
       "      <td>0.0</td>\n",
       "      <td>0.0</td>\n",
       "      <td>4</td>\n",
       "    </tr>\n",
       "    <tr>\n",
       "      <th>1</th>\n",
       "      <td>18-64</td>\n",
       "      <td>Manhattan</td>\n",
       "      <td>citizen</td>\n",
       "      <td>4.0</td>\n",
       "      <td>0.0</td>\n",
       "      <td>228417.950</td>\n",
       "      <td>0.0</td>\n",
       "      <td>0.0</td>\n",
       "      <td>1</td>\n",
       "    </tr>\n",
       "    <tr>\n",
       "      <th>2</th>\n",
       "      <td>65+</td>\n",
       "      <td>Manhattan</td>\n",
       "      <td>citizen</td>\n",
       "      <td>3.0</td>\n",
       "      <td>0.0</td>\n",
       "      <td>228417.950</td>\n",
       "      <td>0.0</td>\n",
       "      <td>0.0</td>\n",
       "      <td>1</td>\n",
       "    </tr>\n",
       "    <tr>\n",
       "      <th>3</th>\n",
       "      <td>65+</td>\n",
       "      <td>Brooklyn</td>\n",
       "      <td>citizen</td>\n",
       "      <td>1.0</td>\n",
       "      <td>0.0</td>\n",
       "      <td>117058.230</td>\n",
       "      <td>0.0</td>\n",
       "      <td>0.0</td>\n",
       "      <td>1</td>\n",
       "    </tr>\n",
       "    <tr>\n",
       "      <th>4</th>\n",
       "      <td>18-64</td>\n",
       "      <td>Brooklyn</td>\n",
       "      <td>citizen</td>\n",
       "      <td>1.0</td>\n",
       "      <td>0.0</td>\n",
       "      <td>117058.230</td>\n",
       "      <td>0.0</td>\n",
       "      <td>0.0</td>\n",
       "      <td>1</td>\n",
       "    </tr>\n",
       "  </tbody>\n",
       "</table>\n",
       "</div>"
      ],
      "text/plain": [
       "     age    borough  citizen  education  childcare      income  pov_gap  \\\n",
       "0  18-64   Brooklyn  citizen        4.0        0.0   81417.961      0.0   \n",
       "1  18-64  Manhattan  citizen        4.0        0.0  228417.950      0.0   \n",
       "2    65+  Manhattan  citizen        3.0        0.0  228417.950      0.0   \n",
       "3    65+   Brooklyn  citizen        1.0        0.0  117058.230      0.0   \n",
       "4  18-64   Brooklyn  citizen        1.0        0.0  117058.230      0.0   \n",
       "\n",
       "   pov_gap_ratio  ethnicity  \n",
       "0            0.0          4  \n",
       "1            0.0          1  \n",
       "2            0.0          1  \n",
       "3            0.0          1  \n",
       "4            0.0          1  "
      ]
     },
     "execution_count": 48,
     "metadata": {},
     "output_type": "execute_result"
    }
   ],
   "source": [
    "poverty.head()"
   ]
  },
  {
   "cell_type": "markdown",
   "id": "ff9a9c24",
   "metadata": {},
   "source": [
    "## Introduction to Data Visualization with Python\n",
    "\n",
    "We use data visualization to help to tell stories by curating data into a form easier to understand, displaying trends, relationships, outliers. They not only are beautiful, but are functional.\n",
    "\n",
    "Let's start with exploring some of the relationships between the variables in our new, cleaned dataframe."
   ]
  },
  {
   "cell_type": "code",
   "execution_count": 15,
   "id": "11b12520",
   "metadata": {},
   "outputs": [
    {
     "data": {
      "image/png": "[encoded data removed]",
      "text/plain": [
       "<Figure size 432x288 with 1 Axes>"
      ]
     },
     "metadata": {
      "needs_background": "light"
     },
     "output_type": "display_data"
    }
   ],
   "source": [
    "plt.scatter(poverty['pov_gap_ratio'], poverty['childcare'])\n",
    "plt.xlabel('Poverty Gap')\n",
    "plt.ylabel('Childcare Cost')\n",
    "plt.show()"
   ]
  },
  {
   "cell_type": "markdown",
   "id": "cfc358f7",
   "metadata": {},
   "source": [
    "To better visualize our data, import [seaborn](https://seaborn.pydata.org/) (a data visualization library built on top of matplot lib)."
   ]
  },
  {
   "cell_type": "code",
   "execution_count": 22,
   "id": "9b638a3e",
   "metadata": {},
   "outputs": [],
   "source": [
    "import seaborn as sns\n",
    "# if you don't have seaborn type !pip install seaborn into this notebook or pip install seaborn into your terminal."
   ]
  },
  {
   "cell_type": "markdown",
   "id": "d0c3ce06",
   "metadata": {},
   "source": [
    "Let's look at where childcare cost and the poverty gap ratio does not equal 0 and display it colored by borough."
   ]
  },
  {
   "cell_type": "code",
   "execution_count": 36,
   "id": "f6c85285",
   "metadata": {},
   "outputs": [
    {
     "data": {
      "image/png": "[encoded data removed]",
      "text/plain": [
       "<Figure size 461.625x360 with 1 Axes>"
      ]
     },
     "metadata": {
      "needs_background": "light"
     },
     "output_type": "display_data"
    }
   ],
   "source": [
    "poverty_childcare =  poverty[(poverty['pov_gap_ratio'] > 0) & (poverty['childcare'] > 0)]\n",
    "sns.relplot(x='pov_gap_ratio', y='childcare', hue=\"borough\", s=200, alpha=.2, data=poverty_childcare);"
   ]
  },
  {
   "cell_type": "markdown",
   "id": "3d1ff824",
   "metadata": {},
   "source": [
    "We can visually separate the boroughs as well and include a line of best fit to explore our data in greater detail. We will use an [lmplot](https://seaborn.pydata.org/generated/seaborn.lmplot.html) to achieve this. You can look at the documentation to see what the parameters mean."
   ]
  },
  {
   "cell_type": "code",
   "execution_count": 34,
   "id": "333427ae",
   "metadata": {},
   "outputs": [
    {
     "data": {
      "image/png": "[encoded data removed]",
      "text/plain": [
       "<Figure size 1080x432 with 5 Axes>"
      ]
     },
     "metadata": {
      "needs_background": "light"
     },
     "output_type": "display_data"
    }
   ],
   "source": [
    "sns.lmplot(x='pov_gap_ratio', y='childcare', hue ='borough',col='borough',\n",
    "               data=poverty_childcare, height=6, aspect=.5)\n",
    "\n",
    "plt.show()"
   ]
  },
  {
   "cell_type": "markdown",
   "id": "de0e21be",
   "metadata": {},
   "source": [
    "From our data dictionary:\n",
    "> The **poverty gap** is a dollar measure of resources needed to escape poverty. The poverty gap index captures the intensity of poverty - the difference in economic well-being as individuals get closer to (or surpass) their poverty threshold. It is possible for populations with similar poverty rates to have divergent poverty gap indexes. We recommend that estimates of the poverty gap index should be used at the  individual (not family) level, to capture the full number of people affected. For example, mean poverty gap index  for children should take the mean index for all children. See Chapter 3  of NYCgov Poverty Measure Report, 2005-2016 (published 2018) for more on the poverty gap and its use.\n",
    "\n",
    "As we can see, as the poverty gap index (or ratio) increases, childcare costs increase for most boroughs. It costs quite a bit to raise a child in NYC, and that has a [significant effect](https://www.refinery29.com/en-us/2014/08/73114/raising-kid-in-nyc-cost-expensive) on a families ability to escape poverty.\n",
    "\n",
    "Let's look at one more different type of graph before you explore them on your own."
   ]
  },
  {
   "cell_type": "code",
   "execution_count": 47,
   "id": "a2733950",
   "metadata": {},
   "outputs": [
    {
     "data": {
      "text/html": [
       "<div>\n",
       "<style scoped>\n",
       "    .dataframe tbody tr th:only-of-type {\n",
       "        vertical-align: middle;\n",
       "    }\n",
       "\n",
       "    .dataframe tbody tr th {\n",
       "        vertical-align: top;\n",
       "    }\n",
       "\n",
       "    .dataframe thead th {\n",
       "        text-align: right;\n",
       "    }\n",
       "</style>\n",
       "<table border=\"1\" class=\"dataframe\">\n",
       "  <thead>\n",
       "    <tr style=\"text-align: right;\">\n",
       "      <th></th>\n",
       "      <th>education</th>\n",
       "      <th>childcare</th>\n",
       "      <th>income</th>\n",
       "      <th>pov_gap</th>\n",
       "      <th>pov_gap_ratio</th>\n",
       "      <th>ethnicity</th>\n",
       "      <th>citizen</th>\n",
       "    </tr>\n",
       "    <tr>\n",
       "      <th>citizen</th>\n",
       "      <th></th>\n",
       "      <th></th>\n",
       "      <th></th>\n",
       "      <th></th>\n",
       "      <th></th>\n",
       "      <th></th>\n",
       "      <th></th>\n",
       "    </tr>\n",
       "  </thead>\n",
       "  <tbody>\n",
       "    <tr>\n",
       "      <th>citizen</th>\n",
       "      <td>2.573523</td>\n",
       "      <td>1227.066037</td>\n",
       "      <td>81329.769868</td>\n",
       "      <td>1677.255033</td>\n",
       "      <td>0.059923</td>\n",
       "      <td>2.309725</td>\n",
       "      <td>citizen</td>\n",
       "    </tr>\n",
       "    <tr>\n",
       "      <th>noncitizen</th>\n",
       "      <td>2.357325</td>\n",
       "      <td>794.640539</td>\n",
       "      <td>66007.988879</td>\n",
       "      <td>2454.285344</td>\n",
       "      <td>0.088022</td>\n",
       "      <td>2.886361</td>\n",
       "      <td>noncitizen</td>\n",
       "    </tr>\n",
       "  </tbody>\n",
       "</table>\n",
       "</div>"
      ],
      "text/plain": [
       "            education    childcare        income      pov_gap  pov_gap_ratio  \\\n",
       "citizen                                                                        \n",
       "citizen      2.573523  1227.066037  81329.769868  1677.255033       0.059923   \n",
       "noncitizen   2.357325   794.640539  66007.988879  2454.285344       0.088022   \n",
       "\n",
       "            ethnicity     citizen  \n",
       "citizen                            \n",
       "citizen      2.309725     citizen  \n",
       "noncitizen   2.886361  noncitizen  "
      ]
     },
     "metadata": {},
     "output_type": "display_data"
    }
   ],
   "source": [
    "citizen = poverty.groupby(\"citizen\")\n",
    "\n",
    "citizen_mean = citizen.mean()\n",
    "\n",
    "# make the index a column so we can graph with the column\n",
    "citizen_mean['citizen'] = ['citizen', 'noncitizen']\n",
    "\n",
    "display(citizen_mean)"
   ]
  },
  {
   "cell_type": "code",
   "execution_count": 49,
   "id": "58011286",
   "metadata": {},
   "outputs": [
    {
     "data": {
      "image/png": "[encoded data removed]",
      "text/plain": [
       "<Figure size 432x288 with 1 Axes>"
      ]
     },
     "metadata": {
      "needs_background": "light"
     },
     "output_type": "display_data"
    }
   ],
   "source": [
    "plt.bar(x=citizen_mean['citizen'], height=citizen_mean['pov_gap'])\n",
    "plt.ylabel('Poverty Gap')\n",
    "plt.show()"
   ]
  },
  {
   "cell_type": "markdown",
   "id": "b83966a2",
   "metadata": {},
   "source": [
    "That's it! This is just a quick dip into the world of data visualization and data analysis. Feel free to explore more with this [dataset](https://data.cityofnewyork.us/City-Government/NYCgov-Poverty-Measure-Data-2018-/cts7-vksw) - select more columns to look at, different types of visualizations, etc... or try finding a completely different dataset on a topic you want to explore! Have fun with it :)"
   ]
  },
  {
   "cell_type": "code",
   "execution_count": null,
   "id": "cd3e54f9",
   "metadata": {},
   "outputs": [],
   "source": []
  }
 ],
 "metadata": {
  "kernelspec": {
   "display_name": "Python 3 (ipykernel)",
   "language": "python",
   "name": "python3"
  },
  "language_info": {
   "codemirror_mode": {
    "name": "ipython",
    "version": 3
   },
   "file_extension": ".py",
   "mimetype": "text/x-python",
   "name": "python",
   "nbconvert_exporter": "python",
   "pygments_lexer": "ipython3",
   "version": "3.9.6"
  }
 },
 "nbformat": 4,
 "nbformat_minor": 5
}