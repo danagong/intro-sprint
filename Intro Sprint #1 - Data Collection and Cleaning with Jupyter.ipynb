{
 "cells": [
  {
   "cell_type": "markdown",
   "id": "6c9decc0",
   "metadata": {},
   "source": [
    "# Data Collection and Cleaning with Jupyter\n",
    "\n",
    "## Introduction to Jupyter Notebook\n",
    "\n",
    "Jupyter Notebook is a really easy and user friendly way to experiment with Python code, combining code with notes and documentation. You can do all of this without having use the command line, and the resulting file can be easily published and shared with other people.\n",
    "\n",
    "An Jupyter Notebook consists of a number of \"cells,\" stacked on the page from top to bottom. Cells can have text or code in them. You can change a cell's type using the \"Cell\" menu at the top of the page; go to Cell > Cell Type and select either Code for Python code or Markdown for text. (You can also change this for the current cell using the drop-down menu in the toolbar.)\n",
    "\n",
    "#### Text Cells\n",
    "Make a new cell, change its type to Markdown, type some stuff and click run. Jupyter Notebook will \"render\" the text and display it on the page in rendered format. You can hit Enter or click in the cell to edit its contents again. Text in Markdown cells is rendered according to a set of conventions called Markdown, a language for marking up text using formatting instructions.\n",
    "\n",
    "#### Code Cells\n"
   ]
  },
  {
   "cell_type": "code",
   "execution_count": null,
   "id": "6f6c4080",
   "metadata": {},
   "outputs": [],
   "source": [
    "print(\"This is a code cell.\")\n",
    "print(\"\")\n",
    "print(\"Any Python code you type in this cell will be run when you press the 'Run' button,\")"
   ]
  },
  {
   "cell_type": "markdown",
   "id": "7c0e9414",
   "metadata": {},
   "source": [
    "You can define variables or import modules in one code cell and it will be available for you to in all subsequent code cells."
   ]
  },
  {
   "cell_type": "code",
   "execution_count": 1,
   "id": "b27e6f83",
   "metadata": {},
   "outputs": [],
   "source": [
    "import random\n",
    "animals = [\"dog\", \"cat\", \"elephant\", \"zebra\"]"
   ]
  },
  {
   "cell_type": "markdown",
   "id": "391fea35",
   "metadata": {},
   "source": [
    "Now, you can use the list of animals and the random module in the cell below."
   ]
  },
  {
   "cell_type": "code",
   "execution_count": 2,
   "id": "852527a4",
   "metadata": {},
   "outputs": [
    {
     "name": "stdout",
     "output_type": "stream",
     "text": [
      "elephant\n"
     ]
    }
   ],
   "source": [
    "print(random.choice(animals))"
   ]
  },
  {
   "cell_type": "markdown",
   "id": "18707a4b",
   "metadata": {},
   "source": [
    "## Data Collection\n",
    "\n",
    "For the purposes of our introductory sprint, we will be collecting data either through importing a csv file or web scraping (specifically with social media), but we will focus on web scraping in a later notebook.\n",
    "\n",
    "In this, we will be using a dataset on "
   ]
  }
 ],
 "metadata": {
  "kernelspec": {
   "display_name": "Python 3 (ipykernel)",
   "language": "python",
   "name": "python3"
  },
  "language_info": {
   "codemirror_mode": {
    "name": "ipython",
    "version": 3
   },
   "file_extension": ".py",
   "mimetype": "text/x-python",
   "name": "python",
   "nbconvert_exporter": "python",
   "pygments_lexer": "ipython3",
   "version": "3.9.6"
  }
 },
 "nbformat": 4,
 "nbformat_minor": 5
}
